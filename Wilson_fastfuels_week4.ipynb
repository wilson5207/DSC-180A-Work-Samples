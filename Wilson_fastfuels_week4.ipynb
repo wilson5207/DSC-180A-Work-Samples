{
 "cells": [
  {
   "cell_type": "markdown",
   "metadata": {},
   "source": [
    "## What is Fastfuels?\n",
    "\n",
    "It's a dataset describing 3D fuelscapes for the contiguous US and the fuel input for the QuicFire model\n",
    "\n",
    "<div>\n",
    "<img src=\"imgs/fastfuels.png\" width=\"500\" /> <img src=\"imgs/fastfuels-quicfire.png\" width=\"500\"/>\n",
    "</div>\n",
    "(left) - FastFuels Example Data; (right) - FastFuels-QuicFire model output\n",
    "\n",
    "**references:** \n",
    "- https://burnpro3d.sdsc.edu/\n",
    "- https://wifire-data.sdsc.edu/\n",
    "- https://www.firelab.org/project/fastfuels-3d-fuels-next-generation-fire-models\n",
    "- FastFuels Example Data demo: https://www.firelab.org/media/911\n",
    "- FastFuels-QuicFire demo: https://www.firelab.org/media/912"
   ]
  },
  {
   "cell_type": "code",
   "execution_count": null,
   "metadata": {},
   "outputs": [],
   "source": []
  },
  {
   "cell_type": "markdown",
   "metadata": {},
   "source": [
    "## Accessing FastFuels dataset"
   ]
  },
  {
   "cell_type": "markdown",
   "metadata": {},
   "source": [
    "reference:  https://pypi.org/project/fastfuels/"
   ]
  },
  {
   "cell_type": "markdown",
   "metadata": {},
   "source": [
    "### Installation\n",
    "install FastFuels and other dependencies "
   ]
  },
  {
   "cell_type": "code",
   "execution_count": 1,
   "metadata": {},
   "outputs": [
    {
     "name": "stderr",
     "output_type": "stream",
     "text": [
      "Traceback (most recent call last):\n",
      "  File \"C:\\Users\\krish\\anaconda3\\Scripts\\pip3-script.py\", line 6, in <module>\n",
      "    from pip._internal.cli.main import main\n",
      "  File \"C:\\Users\\krish\\anaconda3\\lib\\site-packages\\pip\\_internal\\cli\\main.py\", line 8, in <module>\n",
      "    from pip._internal.cli.autocompletion import autocomplete\n",
      "  File \"C:\\Users\\krish\\anaconda3\\lib\\site-packages\\pip\\_internal\\cli\\autocompletion.py\", line 9, in <module>\n",
      "    from pip._internal.cli.main_parser import create_main_parser\n",
      "  File \"C:\\Users\\krish\\anaconda3\\lib\\site-packages\\pip\\_internal\\cli\\main_parser.py\", line 7, in <module>\n",
      "    from pip._internal.cli import cmdoptions\n",
      "  File \"C:\\Users\\krish\\anaconda3\\lib\\site-packages\\pip\\_internal\\cli\\cmdoptions.py\", line 22, in <module>\n",
      "    from pip._internal.cli.progress_bars import BAR_TYPES\n",
      "  File \"C:\\Users\\krish\\anaconda3\\lib\\site-packages\\pip\\_internal\\cli\\progress_bars.py\", line 9, in <module>\n",
      "    from pip._internal.utils.logging import get_indentation\n",
      "  File \"C:\\Users\\krish\\anaconda3\\lib\\site-packages\\pip\\_internal\\utils\\logging.py\", line 14, in <module>\n",
      "    from pip._internal.utils.misc import ensure_dir\n",
      "  File \"C:\\Users\\krish\\anaconda3\\lib\\site-packages\\pip\\_internal\\utils\\misc.py\", line 29, in <module>\n",
      "    from pip._internal.locations import get_major_minor_version, site_packages, user_site\n",
      "  File \"C:\\Users\\krish\\anaconda3\\lib\\site-packages\\pip\\_internal\\locations\\__init__.py\", line 14, in <module>\n",
      "    from . import _distutils, _sysconfig\n",
      "  File \"C:\\Users\\krish\\anaconda3\\lib\\site-packages\\pip\\_internal\\locations\\_sysconfig.py\", line 8, in <module>\n",
      "    from pip._internal.exceptions import InvalidSchemeCombination, UserInstallationInvalid\n",
      "ImportError: cannot import name 'InvalidSchemeCombination' from 'pip._internal.exceptions' (C:\\Users\\krish\\anaconda3\\lib\\site-packages\\pip\\_internal\\exceptions.py)\n"
     ]
    }
   ],
   "source": [
    "# install dependencies\n",
    "!pip3 install fastfuels==0.5.3  s3fs==0.5.2 fsspec==0.8.3 "
   ]
  },
  {
   "cell_type": "code",
   "execution_count": 2,
   "metadata": {},
   "outputs": [],
   "source": [
    "import fastfuels\n",
    "import matplotlib.pyplot as plt"
   ]
  },
  {
   "cell_type": "markdown",
   "metadata": {},
   "source": [
    "### Connecting to a .fio resource"
   ]
  },
  {
   "cell_type": "markdown",
   "metadata": {},
   "source": [
    "A .fio resource is a directory-in-file object where important metadata and fuel arrays are stored. You can open a .fio resource  stored remotely if you have the appropriate credentials."
   ]
  },
  {
   "cell_type": "code",
   "execution_count": 4,
   "metadata": {},
   "outputs": [],
   "source": [
    "fio = fastfuels.open('https://wifire-data.sdsc.edu:9000/fastfuels/index.fio', ftype='s3', username='fastfuels', password='Treatment##Buffet')\n",
    "fio.cache_limit = 1e14"
   ]
  },
  {
   "cell_type": "markdown",
   "metadata": {},
   "source": [
    "### Let's choose a location to explore the dataset such as the Dixie Fire in Lassen National Forest \n",
    "https://www.fire.ca.gov/incidents/2021/7/13/dixie-fire/"
   ]
  },
  {
   "cell_type": "code",
   "execution_count": 17,
   "metadata": {},
   "outputs": [
    {
     "name": "stdout",
     "output_type": "stream",
     "text": [
      "Bounding box query found in single source: ca.fio\n"
     ]
    }
   ],
   "source": [
    "# Dixie Fire location in Lassen National Forest (https://www.fire.ca.gov/incidents/2021/7/13/dixie-fire/) \n",
    "# minx, miny = -122, 39 maxx, maxy = -121.99, 39.01\n",
    "lat = 39.01\n",
    "lon = -121.99\n",
    "\n",
    "# this command will return a square kilometer of fuels (radius=500 meters)\n",
    "roi = fio.query(lon, lat, 30)"
   ]
  },
  {
   "cell_type": "markdown",
   "metadata": {},
   "source": [
    "### Viewing fuels in 3D"
   ]
  },
  {
   "cell_type": "markdown",
   "metadata": {},
   "source": [
    "Fuel parameter arrays can be viewed interactively in 3D. To see the available parameters run"
   ]
  },
  {
   "cell_type": "code",
   "execution_count": 18,
   "metadata": {},
   "outputs": [
    {
     "name": "stdout",
     "output_type": "stream",
     "text": [
      "['bulk_density', 'sav', 'moisture', 'fuel_depth', 'elevation']\n"
     ]
    }
   ],
   "source": [
    "print(roi.get_properties())"
   ]
  },
  {
   "cell_type": "code",
   "execution_count": 19,
   "metadata": {},
   "outputs": [
    {
     "data": {
      "image/png": "[encoded data removed]",
      "text/plain": [
       "<PIL.Image.Image image mode=RGB size=1024x768 at 0x208FE7E93D0>"
      ]
     },
     "metadata": {},
     "output_type": "display_data"
    }
   ],
   "source": [
    "# sav = surface-area-to-volume\n",
    "roi.view('sav')"
   ]
  },
  {
   "cell_type": "markdown",
   "metadata": {},
   "source": [
    "### let's look at the voxel data (each voxel is 1 m^3)"
   ]
  },
  {
   "cell_type": "code",
   "execution_count": 20,
   "metadata": {},
   "outputs": [],
   "source": [
    "def get_voxel(lat, long, index):\n",
    "    # this command will return a square kilometer of fuels (radius=500 meters)\n",
    "    roi = fio.query(lon, lat, 50)\n",
    "    \n",
    "    raw_sav_data = roi.data_dict['sav']\n",
    "    raw_moisture_data = roi.data_dict['moisture']\n",
    "    raw_elevation_data = roi.data_dict['elevation']\n",
    "    \n",
    "    return raw_sav_data[:,:, ], raw_moisture_data[:,:, ], raw_elevation_data"
   ]
  },
  {
   "cell_type": "markdown",
   "metadata": {},
   "source": [
    "I will approach this problem by looking at the characteristics of the water, chaparral, and grass. First I will do a general human observation at the numbers, then I will apply machine learning methods to distinguish the characteristics between these geographical features."
   ]
  },
  {
   "cell_type": "code",
   "execution_count": 21,
   "metadata": {},
   "outputs": [
    {
     "name": "stdout",
     "output_type": "stream",
     "text": [
      "Bounding box query found in single source: or_set/or_84.fio\n"
     ]
    },
    {
     "data": {
      "text/plain": [
       "(array([[[5145.098 ,    0.    ,    0.    , ...,    0.    ,    0.    ,\n",
       "             0.    ],\n",
       "         [5145.098 ,    0.    ,    0.    , ...,    0.    ,    0.    ,\n",
       "             0.    ],\n",
       "         [5113.7256,    0.    ,    0.    , ...,    0.    ,    0.    ,\n",
       "             0.    ],\n",
       "         ...,\n",
       "         [2949.0198,    0.    ,    0.    , ...,    0.    ,    0.    ,\n",
       "             0.    ],\n",
       "         [3074.5098,    0.    ,    0.    , ...,    0.    ,    0.    ,\n",
       "             0.    ],\n",
       "         [3231.3726,    0.    ,    0.    , ...,    0.    ,    0.    ,\n",
       "             0.    ]],\n",
       " \n",
       "        [[5145.098 ,    0.    ,    0.    , ...,    0.    ,    0.    ,\n",
       "             0.    ],\n",
       "         [5113.7256,    0.    ,    0.    , ...,    0.    ,    0.    ,\n",
       "             0.    ],\n",
       "         [5113.7256,    0.    ,    0.    , ...,    0.    ,    0.    ,\n",
       "             0.    ],\n",
       "         ...,\n",
       "         [2854.902 ,    0.    ,    0.    , ...,    0.    ,    0.    ,\n",
       "             0.    ],\n",
       "         [3011.7646,    0.    ,    0.    , ...,    0.    ,    0.    ,\n",
       "             0.    ],\n",
       "         [3137.255 ,    0.    ,    0.    , ...,    0.    ,    0.    ,\n",
       "             0.    ]],\n",
       " \n",
       "        [[5145.098 ,    0.    ,    0.    , ...,    0.    ,    0.    ,\n",
       "             0.    ],\n",
       "         [5113.7256,    0.    ,    0.    , ...,    0.    ,    0.    ,\n",
       "             0.    ],\n",
       "         [5113.7256,    0.    ,    0.    , ...,    0.    ,    0.    ,\n",
       "             0.    ],\n",
       "         ...,\n",
       "         [2792.157 ,    0.    ,    0.    , ...,    0.    ,    0.    ,\n",
       "             0.    ],\n",
       "         [2949.0198,    0.    ,    0.    , ...,    0.    ,    0.    ,\n",
       "             0.    ],\n",
       "         [3105.8823,    0.    ,    0.    , ...,    0.    ,    0.    ,\n",
       "             0.    ]],\n",
       " \n",
       "        ...,\n",
       " \n",
       "        [[5364.706 ,    0.    ,    0.    , ...,    0.    ,    0.    ,\n",
       "             0.    ],\n",
       "         [5364.706 ,    0.    ,    0.    , ...,    0.    ,    0.    ,\n",
       "             0.    ],\n",
       "         [5396.0786,    0.    ,    0.    , ...,    0.    ,    0.    ,\n",
       "             0.    ],\n",
       "         ...,\n",
       "         [5113.7256,    0.    ,    0.    , ...,    0.    ,    0.    ,\n",
       "             0.    ],\n",
       "         [5113.7256,    0.    ,    0.    , ...,    0.    ,    0.    ,\n",
       "             0.    ],\n",
       "         [5082.353 ,    0.    ,    0.    , ...,    0.    ,    0.    ,\n",
       "             0.    ]],\n",
       " \n",
       "        [[5333.3335,    0.    ,    0.    , ...,    0.    ,    0.    ,\n",
       "             0.    ],\n",
       "         [5364.706 ,    0.    ,    0.    , ...,    0.    ,    0.    ,\n",
       "             0.    ],\n",
       "         [5364.706 ,    0.    ,    0.    , ...,    0.    ,    0.    ,\n",
       "             0.    ],\n",
       "         ...,\n",
       "         [5113.7256,    0.    ,    0.    , ...,    0.    ,    0.    ,\n",
       "             0.    ],\n",
       "         [5113.7256,    0.    ,    0.    , ...,    0.    ,    0.    ,\n",
       "             0.    ],\n",
       "         [5082.353 ,    0.    ,    0.    , ...,    0.    ,    0.    ,\n",
       "             0.    ]],\n",
       " \n",
       "        [[5333.3335,    0.    ,    0.    , ...,    0.    ,    0.    ,\n",
       "             0.    ],\n",
       "         [5364.706 ,    0.    ,    0.    , ...,    0.    ,    0.    ,\n",
       "             0.    ],\n",
       "         [5364.706 ,    0.    ,    0.    , ...,    0.    ,    0.    ,\n",
       "             0.    ],\n",
       "         ...,\n",
       "         [5113.7256,    0.    ,    0.    , ...,    0.    ,    0.    ,\n",
       "             0.    ],\n",
       "         [5113.7256,    0.    ,    0.    , ...,    0.    ,    0.    ,\n",
       "             0.    ],\n",
       "         [5113.7256,    0.    ,    0.    , ...,    0.    ,    0.    ,\n",
       "             0.    ]]], dtype=float32),\n",
       " array([[[0.2, 0. , 0. , ..., 0. , 0. , 0. ],\n",
       "         [0.2, 0. , 0. , ..., 0. , 0. , 0. ],\n",
       "         [0.2, 0. , 0. , ..., 0. , 0. , 0. ],\n",
       "         ...,\n",
       "         [0.2, 0. , 0. , ..., 0. , 0. , 0. ],\n",
       "         [0.2, 0. , 0. , ..., 0. , 0. , 0. ],\n",
       "         [0.2, 0. , 0. , ..., 0. , 0. , 0. ]],\n",
       " \n",
       "        [[0.2, 0. , 0. , ..., 0. , 0. , 0. ],\n",
       "         [0.2, 0. , 0. , ..., 0. , 0. , 0. ],\n",
       "         [0.2, 0. , 0. , ..., 0. , 0. , 0. ],\n",
       "         ...,\n",
       "         [0.2, 0. , 0. , ..., 0. , 0. , 0. ],\n",
       "         [0.2, 0. , 0. , ..., 0. , 0. , 0. ],\n",
       "         [0.2, 0. , 0. , ..., 0. , 0. , 0. ]],\n",
       " \n",
       "        [[0.2, 0. , 0. , ..., 0. , 0. , 0. ],\n",
       "         [0.2, 0. , 0. , ..., 0. , 0. , 0. ],\n",
       "         [0.2, 0. , 0. , ..., 0. , 0. , 0. ],\n",
       "         ...,\n",
       "         [0.2, 0. , 0. , ..., 0. , 0. , 0. ],\n",
       "         [0.2, 0. , 0. , ..., 0. , 0. , 0. ],\n",
       "         [0.2, 0. , 0. , ..., 0. , 0. , 0. ]],\n",
       " \n",
       "        ...,\n",
       " \n",
       "        [[0.2, 0. , 0. , ..., 0. , 0. , 0. ],\n",
       "         [0.2, 0. , 0. , ..., 0. , 0. , 0. ],\n",
       "         [0.2, 0. , 0. , ..., 0. , 0. , 0. ],\n",
       "         ...,\n",
       "         [0.2, 0. , 0. , ..., 0. , 0. , 0. ],\n",
       "         [0.2, 0. , 0. , ..., 0. , 0. , 0. ],\n",
       "         [0.2, 0. , 0. , ..., 0. , 0. , 0. ]],\n",
       " \n",
       "        [[0.2, 0. , 0. , ..., 0. , 0. , 0. ],\n",
       "         [0.2, 0. , 0. , ..., 0. , 0. , 0. ],\n",
       "         [0.2, 0. , 0. , ..., 0. , 0. , 0. ],\n",
       "         ...,\n",
       "         [0.2, 0. , 0. , ..., 0. , 0. , 0. ],\n",
       "         [0.2, 0. , 0. , ..., 0. , 0. , 0. ],\n",
       "         [0.2, 0. , 0. , ..., 0. , 0. , 0. ]],\n",
       " \n",
       "        [[0.2, 0. , 0. , ..., 0. , 0. , 0. ],\n",
       "         [0.2, 0. , 0. , ..., 0. , 0. , 0. ],\n",
       "         [0.2, 0. , 0. , ..., 0. , 0. , 0. ],\n",
       "         ...,\n",
       "         [0.2, 0. , 0. , ..., 0. , 0. , 0. ],\n",
       "         [0.2, 0. , 0. , ..., 0. , 0. , 0. ],\n",
       "         [0.2, 0. , 0. , ..., 0. , 0. , 0. ]]], dtype=float32),\n",
       " array([[1726, 1726, 1726, ..., 1718, 1718, 1718],\n",
       "        [1726, 1726, 1726, ..., 1718, 1718, 1718],\n",
       "        [1726, 1726, 1726, ..., 1717, 1717, 1717],\n",
       "        ...,\n",
       "        [1715, 1714, 1714, ..., 1702, 1702, 1702],\n",
       "        [1715, 1714, 1714, ..., 1702, 1702, 1702],\n",
       "        [1714, 1714, 1714, ..., 1702, 1702, 1702]]))"
      ]
     },
     "execution_count": 21,
     "metadata": {},
     "output_type": "execute_result"
    }
   ],
   "source": [
    "# Grass\n",
    "get_voxel(42.870074, -118.883789, 0)"
   ]
  },
  {
   "cell_type": "code",
   "execution_count": 22,
   "metadata": {},
   "outputs": [
    {
     "name": "stdout",
     "output_type": "stream",
     "text": [
      "WARNING: bounding box query found in multiple (2) sources; choosing a single one.\n",
      "choosing ca.fio\n"
     ]
    },
    {
     "data": {
      "text/plain": [
       "(array([[[5898.0396,    0.    ,    0.    , ...,    0.    ,    0.    ,\n",
       "             0.    ],\n",
       "         [5898.0396,    0.    ,    0.    , ...,    0.    ,    0.    ,\n",
       "             0.    ],\n",
       "         [5898.0396,    0.    ,    0.    , ...,    0.    ,    0.    ,\n",
       "             0.    ],\n",
       "         ...,\n",
       "         [4925.49  ,    0.    ,    0.    , ...,    0.    ,    0.    ,\n",
       "             0.    ],\n",
       "         [4862.745 ,    0.    ,    0.    , ...,    0.    ,    0.    ,\n",
       "             0.    ],\n",
       "         [4831.3726,    0.    ,    0.    , ...,    0.    ,    0.    ,\n",
       "             0.    ]],\n",
       " \n",
       "        [[5898.0396,    0.    ,    0.    , ...,    0.    ,    0.    ,\n",
       "             0.    ],\n",
       "         [5898.0396,    0.    ,    0.    , ...,    0.    ,    0.    ,\n",
       "             0.    ],\n",
       "         [5898.0396,    0.    ,    0.    , ...,    0.    ,    0.    ,\n",
       "             0.    ],\n",
       "         ...,\n",
       "         [4925.49  ,    0.    ,    0.    , ...,    0.    ,    0.    ,\n",
       "             0.    ],\n",
       "         [4862.745 ,    0.    ,    0.    , ...,    0.    ,    0.    ,\n",
       "             0.    ],\n",
       "         [4831.3726,    0.    ,    0.    , ...,    0.    ,    0.    ,\n",
       "             0.    ]],\n",
       " \n",
       "        [[5898.0396,    0.    ,    0.    , ...,    0.    ,    0.    ,\n",
       "             0.    ],\n",
       "         [5898.0396,    0.    ,    0.    , ...,    0.    ,    0.    ,\n",
       "             0.    ],\n",
       "         [5898.0396,    0.    ,    0.    , ...,    0.    ,    0.    ,\n",
       "             0.    ],\n",
       "         ...,\n",
       "         [4925.49  ,    0.    ,    0.    , ...,    0.    ,    0.    ,\n",
       "             0.    ],\n",
       "         [4862.745 ,    0.    ,    0.    , ...,    0.    ,    0.    ,\n",
       "             0.    ],\n",
       "         [4831.3726,    0.    ,    0.    , ...,    0.    ,    0.    ,\n",
       "             0.    ]],\n",
       " \n",
       "        ...,\n",
       " \n",
       "        [[4172.5493,    0.    ,    0.    , ...,    0.    ,    0.    ,\n",
       "             0.    ],\n",
       "         [4172.5493,    0.    ,    0.    , ...,    0.    ,    0.    ,\n",
       "             0.    ],\n",
       "         [4172.5493,    0.    ,    0.    , ...,    0.    ,    0.    ,\n",
       "             0.    ],\n",
       "         ...,\n",
       "         [4078.4316,    0.    ,    0.    , ...,    0.    ,    0.    ,\n",
       "             0.    ],\n",
       "         [4078.4316,    0.    ,    0.    , ...,    0.    ,    0.    ,\n",
       "             0.    ],\n",
       "         [4078.4316,    0.    ,    0.    , ...,    0.    ,    0.    ,\n",
       "             0.    ]],\n",
       " \n",
       "        [[4172.5493,    0.    ,    0.    , ...,    0.    ,    0.    ,\n",
       "             0.    ],\n",
       "         [4141.177 ,    0.    ,    0.    , ...,    0.    ,    0.    ,\n",
       "             0.    ],\n",
       "         [4141.177 ,    0.    ,    0.    , ...,    0.    ,    0.    ,\n",
       "             0.    ],\n",
       "         ...,\n",
       "         [4078.4316,    0.    ,    0.    , ...,    0.    ,    0.    ,\n",
       "             0.    ],\n",
       "         [4078.4316,    0.    ,    0.    , ...,    0.    ,    0.    ,\n",
       "             0.    ],\n",
       "         [4078.4316,    0.    ,    0.    , ...,    0.    ,    0.    ,\n",
       "             0.    ]],\n",
       " \n",
       "        [[4141.177 ,    0.    ,    0.    , ...,    0.    ,    0.    ,\n",
       "             0.    ],\n",
       "         [4141.177 ,    0.    ,    0.    , ...,    0.    ,    0.    ,\n",
       "             0.    ],\n",
       "         [4141.177 ,    0.    ,    0.    , ...,    0.    ,    0.    ,\n",
       "             0.    ],\n",
       "         ...,\n",
       "         [4078.4316,    0.    ,    0.    , ...,    0.    ,    0.    ,\n",
       "             0.    ],\n",
       "         [4078.4316,    0.    ,    0.    , ...,    0.    ,    0.    ,\n",
       "             0.    ],\n",
       "         [4078.4316,    0.    ,    0.    , ...,    0.    ,    0.    ,\n",
       "             0.    ]]], dtype=float32),\n",
       " array([[[0.2, 0. , 0. , ..., 0. , 0. , 0. ],\n",
       "         [0.2, 0. , 0. , ..., 0. , 0. , 0. ],\n",
       "         [0.2, 0. , 0. , ..., 0. , 0. , 0. ],\n",
       "         ...,\n",
       "         [0.2, 0. , 0. , ..., 0. , 0. , 0. ],\n",
       "         [0.2, 0. , 0. , ..., 0. , 0. , 0. ],\n",
       "         [0.2, 0. , 0. , ..., 0. , 0. , 0. ]],\n",
       " \n",
       "        [[0.2, 0. , 0. , ..., 0. , 0. , 0. ],\n",
       "         [0.2, 0. , 0. , ..., 0. , 0. , 0. ],\n",
       "         [0.2, 0. , 0. , ..., 0. , 0. , 0. ],\n",
       "         ...,\n",
       "         [0.2, 0. , 0. , ..., 0. , 0. , 0. ],\n",
       "         [0.2, 0. , 0. , ..., 0. , 0. , 0. ],\n",
       "         [0.2, 0. , 0. , ..., 0. , 0. , 0. ]],\n",
       " \n",
       "        [[0.2, 0. , 0. , ..., 0. , 0. , 0. ],\n",
       "         [0.2, 0. , 0. , ..., 0. , 0. , 0. ],\n",
       "         [0.2, 0. , 0. , ..., 0. , 0. , 0. ],\n",
       "         ...,\n",
       "         [0.2, 0. , 0. , ..., 0. , 0. , 0. ],\n",
       "         [0.2, 0. , 0. , ..., 0. , 0. , 0. ],\n",
       "         [0.2, 0. , 0. , ..., 0. , 0. , 0. ]],\n",
       " \n",
       "        ...,\n",
       " \n",
       "        [[0.2, 0. , 0. , ..., 0. , 0. , 0. ],\n",
       "         [0.2, 0. , 0. , ..., 0. , 0. , 0. ],\n",
       "         [0.2, 0. , 0. , ..., 0. , 0. , 0. ],\n",
       "         ...,\n",
       "         [0.2, 0. , 0. , ..., 0. , 0. , 0. ],\n",
       "         [0.2, 0. , 0. , ..., 0. , 0. , 0. ],\n",
       "         [0.2, 0. , 0. , ..., 0. , 0. , 0. ]],\n",
       " \n",
       "        [[0.2, 0. , 0. , ..., 0. , 0. , 0. ],\n",
       "         [0.2, 0. , 0. , ..., 0. , 0. , 0. ],\n",
       "         [0.2, 0. , 0. , ..., 0. , 0. , 0. ],\n",
       "         ...,\n",
       "         [0.2, 0. , 0. , ..., 0. , 0. , 0. ],\n",
       "         [0.2, 0. , 0. , ..., 0. , 0. , 0. ],\n",
       "         [0.2, 0. , 0. , ..., 0. , 0. , 0. ]],\n",
       " \n",
       "        [[0.2, 0. , 0. , ..., 0. , 0. , 0. ],\n",
       "         [0.2, 0. , 0. , ..., 0. , 0. , 0. ],\n",
       "         [0.2, 0. , 0. , ..., 0. , 0. , 0. ],\n",
       "         ...,\n",
       "         [0.2, 0. , 0. , ..., 0. , 0. , 0. ],\n",
       "         [0.2, 0. , 0. , ..., 0. , 0. , 0. ],\n",
       "         [0.2, 0. , 0. , ..., 0. , 0. , 0. ]]], dtype=float32),\n",
       " array([[1294, 1294, 1294, ..., 1294, 1294, 1294],\n",
       "        [1294, 1294, 1294, ..., 1294, 1294, 1294],\n",
       "        [1294, 1294, 1294, ..., 1294, 1294, 1294],\n",
       "        ...,\n",
       "        [1294, 1294, 1294, ..., 1294, 1294, 1294],\n",
       "        [1294, 1294, 1294, ..., 1294, 1294, 1294],\n",
       "        [1294, 1294, 1294, ..., 1294, 1294, 1294]]))"
      ]
     },
     "execution_count": 22,
     "metadata": {},
     "output_type": "execute_result"
    }
   ],
   "source": [
    "# Water\n",
    "get_voxel(41.945303, -120.421964, 0)"
   ]
  },
  {
   "cell_type": "code",
   "execution_count": 23,
   "metadata": {},
   "outputs": [
    {
     "name": "stdout",
     "output_type": "stream",
     "text": [
      "Bounding box query found in single source: ca.fio\n"
     ]
    },
    {
     "data": {
      "text/plain": [
       "(array([[[5866.667 ,    0.    ,    0.    , ...,    0.    ,    0.    ,\n",
       "             0.    ],\n",
       "         [5866.667 ,    0.    ,    0.    , ...,    0.    ,    0.    ,\n",
       "             0.    ],\n",
       "         [5866.667 ,    0.    ,    0.    , ...,    0.    ,    0.    ,\n",
       "             0.    ],\n",
       "         ...,\n",
       "         [5458.8237,    0.    ,    0.    , ...,    0.    ,    0.    ,\n",
       "             0.    ],\n",
       "         [5490.1963,    0.    ,    0.    , ...,    0.    ,    0.    ,\n",
       "             0.    ],\n",
       "         [5521.569 ,    0.    ,    0.    , ...,    0.    ,    0.    ,\n",
       "             0.    ]],\n",
       " \n",
       "        [[5866.667 ,    0.    ,    0.    , ...,    0.    ,    0.    ,\n",
       "             0.    ],\n",
       "         [5866.667 ,    0.    ,    0.    , ...,    0.    ,    0.    ,\n",
       "             0.    ],\n",
       "         [5835.2944,    0.    ,    0.    , ...,    0.    ,    0.    ,\n",
       "             0.    ],\n",
       "         ...,\n",
       "         [5458.8237,    0.    ,    0.    , ...,    0.    ,    0.    ,\n",
       "             0.    ],\n",
       "         [5490.1963,    0.    ,    0.    , ...,    0.    ,    0.    ,\n",
       "             0.    ],\n",
       "         [5521.569 ,    0.    ,    0.    , ...,    0.    ,    0.    ,\n",
       "             0.    ]],\n",
       " \n",
       "        [[5866.667 ,    0.    ,    0.    , ...,    0.    ,    0.    ,\n",
       "             0.    ],\n",
       "         [5835.2944,    0.    ,    0.    , ...,    0.    ,    0.    ,\n",
       "             0.    ],\n",
       "         [5835.2944,    0.    ,    0.    , ...,    0.    ,    0.    ,\n",
       "             0.    ],\n",
       "         ...,\n",
       "         [5458.8237,    0.    ,    0.    , ...,    0.    ,    0.    ,\n",
       "             0.    ],\n",
       "         [5490.1963,    0.    ,    0.    , ...,    0.    ,    0.    ,\n",
       "             0.    ],\n",
       "         [5521.569 ,    0.    ,    0.    , ...,    0.    ,    0.    ,\n",
       "             0.    ]],\n",
       " \n",
       "        ...,\n",
       " \n",
       "        [[5898.0396,    0.    ,    0.    , ...,    0.    ,    0.    ,\n",
       "             0.    ],\n",
       "         [5898.0396,    0.    ,    0.    , ...,    0.    ,    0.    ,\n",
       "             0.    ],\n",
       "         [5929.412 ,    0.    ,    0.    , ...,    0.    ,    0.    ,\n",
       "             0.    ],\n",
       "         ...,\n",
       "         [5521.569 ,    0.    ,    0.    , ...,    0.    ,    0.    ,\n",
       "             0.    ],\n",
       "         [5521.569 ,    0.    ,    0.    , ...,    0.    ,    0.    ,\n",
       "             0.    ],\n",
       "         [5490.1963,    0.    ,    0.    , ...,    0.    ,    0.    ,\n",
       "             0.    ]],\n",
       " \n",
       "        [[5898.0396,    0.    ,    0.    , ...,    0.    ,    0.    ,\n",
       "             0.    ],\n",
       "         [5898.0396,    0.    ,    0.    , ...,    0.    ,    0.    ,\n",
       "             0.    ],\n",
       "         [5929.412 ,    0.    ,    0.    , ...,    0.    ,    0.    ,\n",
       "             0.    ],\n",
       "         ...,\n",
       "         [5490.1963,    0.    ,    0.    , ...,    0.    ,    0.    ,\n",
       "             0.    ],\n",
       "         [5490.1963,    0.    ,    0.    , ...,    0.    ,    0.    ,\n",
       "             0.    ],\n",
       "         [5490.1963,    0.    ,    0.    , ...,    0.    ,    0.    ,\n",
       "             0.    ]],\n",
       " \n",
       "        [[5898.0396,    0.    ,    0.    , ...,    0.    ,    0.    ,\n",
       "             0.    ],\n",
       "         [5898.0396,    0.    ,    0.    , ...,    0.    ,    0.    ,\n",
       "             0.    ],\n",
       "         [5929.412 ,    0.    ,    0.    , ...,    0.    ,    0.    ,\n",
       "             0.    ],\n",
       "         ...,\n",
       "         [5490.1963,    0.    ,    0.    , ...,    0.    ,    0.    ,\n",
       "             0.    ],\n",
       "         [5458.8237,    0.    ,    0.    , ...,    0.    ,    0.    ,\n",
       "             0.    ],\n",
       "         [5458.8237,    0.    ,    0.    , ...,    0.    ,    0.    ,\n",
       "             0.    ]]], dtype=float32),\n",
       " array([[[0.2, 0. , 0. , ..., 0. , 0. , 0. ],\n",
       "         [0.2, 0. , 0. , ..., 0. , 0. , 0. ],\n",
       "         [0.2, 0. , 0. , ..., 0. , 0. , 0. ],\n",
       "         ...,\n",
       "         [0.2, 0. , 0. , ..., 0. , 0. , 0. ],\n",
       "         [0.2, 0. , 0. , ..., 0. , 0. , 0. ],\n",
       "         [0.2, 0. , 0. , ..., 0. , 0. , 0. ]],\n",
       " \n",
       "        [[0.2, 0. , 0. , ..., 0. , 0. , 0. ],\n",
       "         [0.2, 0. , 0. , ..., 0. , 0. , 0. ],\n",
       "         [0.2, 0. , 0. , ..., 0. , 0. , 0. ],\n",
       "         ...,\n",
       "         [0.2, 0. , 0. , ..., 0. , 0. , 0. ],\n",
       "         [0.2, 0. , 0. , ..., 0. , 0. , 0. ],\n",
       "         [0.2, 0. , 0. , ..., 0. , 0. , 0. ]],\n",
       " \n",
       "        [[0.2, 0. , 0. , ..., 0. , 0. , 0. ],\n",
       "         [0.2, 0. , 0. , ..., 0. , 0. , 0. ],\n",
       "         [0.2, 0. , 0. , ..., 0. , 0. , 0. ],\n",
       "         ...,\n",
       "         [0.2, 0. , 0. , ..., 0. , 0. , 0. ],\n",
       "         [0.2, 0. , 0. , ..., 0. , 0. , 0. ],\n",
       "         [0.2, 0. , 0. , ..., 0. , 0. , 0. ]],\n",
       " \n",
       "        ...,\n",
       " \n",
       "        [[0.2, 0. , 0. , ..., 0. , 0. , 0. ],\n",
       "         [0.2, 0. , 0. , ..., 0. , 0. , 0. ],\n",
       "         [0.2, 0. , 0. , ..., 0. , 0. , 0. ],\n",
       "         ...,\n",
       "         [0.2, 0. , 0. , ..., 0. , 0. , 0. ],\n",
       "         [0.2, 0. , 0. , ..., 0. , 0. , 0. ],\n",
       "         [0.2, 0. , 0. , ..., 0. , 0. , 0. ]],\n",
       " \n",
       "        [[0.2, 0. , 0. , ..., 0. , 0. , 0. ],\n",
       "         [0.2, 0. , 0. , ..., 0. , 0. , 0. ],\n",
       "         [0.2, 0. , 0. , ..., 0. , 0. , 0. ],\n",
       "         ...,\n",
       "         [0.2, 0. , 0. , ..., 0. , 0. , 0. ],\n",
       "         [0.2, 0. , 0. , ..., 0. , 0. , 0. ],\n",
       "         [0.2, 0. , 0. , ..., 0. , 0. , 0. ]],\n",
       " \n",
       "        [[0.2, 0. , 0. , ..., 0. , 0. , 0. ],\n",
       "         [0.2, 0. , 0. , ..., 0. , 0. , 0. ],\n",
       "         [0.2, 0. , 0. , ..., 0. , 0. , 0. ],\n",
       "         ...,\n",
       "         [0.2, 0. , 0. , ..., 0. , 0. , 0. ],\n",
       "         [0.2, 0. , 0. , ..., 0. , 0. , 0. ],\n",
       "         [0.2, 0. , 0. , ..., 0. , 0. , 0. ]]], dtype=float32),\n",
       " array([[1336, 1336, 1336, ..., 1337, 1337, 1337],\n",
       "        [1336, 1336, 1336, ..., 1337, 1337, 1337],\n",
       "        [1336, 1336, 1336, ..., 1337, 1337, 1337],\n",
       "        ...,\n",
       "        [1335, 1335, 1335, ..., 1337, 1337, 1337],\n",
       "        [1335, 1335, 1335, ..., 1337, 1337, 1337],\n",
       "        [1335, 1335, 1335, ..., 1337, 1337, 1337]]))"
      ]
     },
     "execution_count": 23,
     "metadata": {},
     "output_type": "execute_result"
    }
   ],
   "source": [
    "# Chaparral\n",
    "get_voxel(41.721199, -121.131449, 0)"
   ]
  },
  {
   "cell_type": "markdown",
   "metadata": {},
   "source": [
    "# Approach:\n",
    "1. Find the averages of the sav and moisture. This is ONLY based on a general assumption that both factors are related.\n",
    "2. Use the averages of the sav and moisture values, plot a scatter plot to visualize the relationship.\n",
    "3. Use KMeans to divide the values into 3 clusters, water, grass, and chaparral.\n",
    "4. Use the labels in KMeans to add to the data dictionary."
   ]
  },
  {
   "cell_type": "code",
   "execution_count": 24,
   "metadata": {},
   "outputs": [
    {
     "name": "stdout",
     "output_type": "stream",
     "text": [
      "-124000 42000\n",
      "WARNING: bounding box query found in multiple (2) sources; choosing a single one.\n",
      "choosing ca.fio\n",
      "WARNING: bounding box query found in multiple (2) sources; choosing a single one.\n",
      "choosing ca.fio\n",
      "-124000 42500\n",
      "WARNING: bounding box query found in multiple (2) sources; choosing a single one.\n",
      "choosing ca.fio\n",
      "WARNING: bounding box query found in multiple (2) sources; choosing a single one.\n",
      "choosing ca.fio\n",
      "-124000 43000\n",
      "Bounding box query found in single source: or_set/or_84.fio\n",
      "Bounding box query found in single source: or_set/or_84.fio\n",
      "-124000 43500\n",
      "Bounding box query found in single source: or_set/or_69.fio\n",
      "Bounding box query found in single source: or_set/or_69.fio\n",
      "-124000 44000\n",
      "Bounding box query found in single source: or_set/or_53.fio\n",
      "Bounding box query found in single source: or_set/or_53.fio\n"
     ]
    },
    {
     "ename": "KeyboardInterrupt",
     "evalue": "",
     "output_type": "error",
     "traceback": [
      "\u001b[1;31m---------------------------------------------------------------------------\u001b[0m",
      "\u001b[1;31mKeyboardInterrupt\u001b[0m                         Traceback (most recent call last)",
      "\u001b[1;32m<ipython-input-24-5a55d2641e61>\u001b[0m in \u001b[0;36m<module>\u001b[1;34m\u001b[0m\n\u001b[0;32m      5\u001b[0m     \u001b[1;32mfor\u001b[0m \u001b[0mlat\u001b[0m \u001b[1;32min\u001b[0m \u001b[0mrange\u001b[0m\u001b[1;33m(\u001b[0m\u001b[1;36m42000\u001b[0m\u001b[1;33m,\u001b[0m \u001b[1;36m45000\u001b[0m\u001b[1;33m,\u001b[0m \u001b[1;36m500\u001b[0m\u001b[1;33m)\u001b[0m\u001b[1;33m:\u001b[0m\u001b[1;33m\u001b[0m\u001b[1;33m\u001b[0m\u001b[0m\n\u001b[0;32m      6\u001b[0m         \u001b[0mprint\u001b[0m\u001b[1;33m(\u001b[0m\u001b[0mlong\u001b[0m\u001b[1;33m,\u001b[0m\u001b[0mlat\u001b[0m\u001b[1;33m)\u001b[0m\u001b[1;33m\u001b[0m\u001b[1;33m\u001b[0m\u001b[0m\n\u001b[1;32m----> 7\u001b[1;33m         \u001b[0mmean_list\u001b[0m\u001b[1;33m.\u001b[0m\u001b[0mappend\u001b[0m\u001b[1;33m(\u001b[0m\u001b[1;33m[\u001b[0m\u001b[0mget_voxel\u001b[0m\u001b[1;33m(\u001b[0m\u001b[0mlat\u001b[0m\u001b[1;33m/\u001b[0m\u001b[1;36m1000\u001b[0m\u001b[1;33m,\u001b[0m \u001b[0mlong\u001b[0m\u001b[1;33m/\u001b[0m\u001b[1;36m1000\u001b[0m\u001b[1;33m,\u001b[0m \u001b[1;36m0\u001b[0m\u001b[1;33m)\u001b[0m\u001b[1;33m[\u001b[0m\u001b[1;36m0\u001b[0m\u001b[1;33m]\u001b[0m\u001b[1;33m.\u001b[0m\u001b[0mmean\u001b[0m\u001b[1;33m(\u001b[0m\u001b[1;33m)\u001b[0m\u001b[1;33m,\u001b[0m \u001b[0mget_voxel\u001b[0m\u001b[1;33m(\u001b[0m\u001b[0mlat\u001b[0m\u001b[1;33m/\u001b[0m\u001b[1;36m1000\u001b[0m\u001b[1;33m,\u001b[0m \u001b[0mlong\u001b[0m\u001b[1;33m/\u001b[0m\u001b[1;36m1000\u001b[0m\u001b[1;33m,\u001b[0m \u001b[1;36m0\u001b[0m\u001b[1;33m)\u001b[0m\u001b[1;33m[\u001b[0m\u001b[1;36m1\u001b[0m\u001b[1;33m]\u001b[0m\u001b[1;33m.\u001b[0m\u001b[0mmean\u001b[0m\u001b[1;33m(\u001b[0m\u001b[1;33m)\u001b[0m\u001b[1;33m]\u001b[0m\u001b[1;33m)\u001b[0m\u001b[1;33m\u001b[0m\u001b[1;33m\u001b[0m\u001b[0m\n\u001b[0m",
      "\u001b[1;32m<ipython-input-20-e2474128a08c>\u001b[0m in \u001b[0;36mget_voxel\u001b[1;34m(lat, long, index)\u001b[0m\n\u001b[0;32m      1\u001b[0m \u001b[1;32mdef\u001b[0m \u001b[0mget_voxel\u001b[0m\u001b[1;33m(\u001b[0m\u001b[0mlat\u001b[0m\u001b[1;33m,\u001b[0m \u001b[0mlong\u001b[0m\u001b[1;33m,\u001b[0m \u001b[0mindex\u001b[0m\u001b[1;33m)\u001b[0m\u001b[1;33m:\u001b[0m\u001b[1;33m\u001b[0m\u001b[1;33m\u001b[0m\u001b[0m\n\u001b[0;32m      2\u001b[0m     \u001b[1;31m# this command will return a square kilometer of fuels (radius=500 meters)\u001b[0m\u001b[1;33m\u001b[0m\u001b[1;33m\u001b[0m\u001b[1;33m\u001b[0m\u001b[0m\n\u001b[1;32m----> 3\u001b[1;33m     \u001b[0mroi\u001b[0m \u001b[1;33m=\u001b[0m \u001b[0mfio\u001b[0m\u001b[1;33m.\u001b[0m\u001b[0mquery\u001b[0m\u001b[1;33m(\u001b[0m\u001b[0mlon\u001b[0m\u001b[1;33m,\u001b[0m \u001b[0mlat\u001b[0m\u001b[1;33m,\u001b[0m \u001b[1;36m50\u001b[0m\u001b[1;33m)\u001b[0m\u001b[1;33m\u001b[0m\u001b[1;33m\u001b[0m\u001b[0m\n\u001b[0m\u001b[0;32m      4\u001b[0m \u001b[1;33m\u001b[0m\u001b[0m\n\u001b[0;32m      5\u001b[0m     \u001b[0mraw_sav_data\u001b[0m \u001b[1;33m=\u001b[0m \u001b[0mroi\u001b[0m\u001b[1;33m.\u001b[0m\u001b[0mdata_dict\u001b[0m\u001b[1;33m[\u001b[0m\u001b[1;34m'sav'\u001b[0m\u001b[1;33m]\u001b[0m\u001b[1;33m\u001b[0m\u001b[1;33m\u001b[0m\u001b[0m\n",
      "\u001b[1;32m~\\anaconda3\\lib\\site-packages\\fastfuels\\core.py\u001b[0m in \u001b[0;36mquery\u001b[1;34m(self, lon, lat, radius, property)\u001b[0m\n\u001b[0;32m    534\u001b[0m         \"\"\"\n\u001b[0;32m    535\u001b[0m \u001b[1;33m\u001b[0m\u001b[0m\n\u001b[1;32m--> 536\u001b[1;33m         \u001b[1;32mreturn\u001b[0m \u001b[0mself\u001b[0m\u001b[1;33m.\u001b[0m\u001b[0mquery_geographic\u001b[0m\u001b[1;33m(\u001b[0m\u001b[0mlon\u001b[0m\u001b[1;33m,\u001b[0m \u001b[0mlat\u001b[0m\u001b[1;33m,\u001b[0m \u001b[0mradius\u001b[0m\u001b[1;33m,\u001b[0m \u001b[0mproperty\u001b[0m\u001b[1;33m)\u001b[0m\u001b[1;33m\u001b[0m\u001b[1;33m\u001b[0m\u001b[0m\n\u001b[0m\u001b[0;32m    537\u001b[0m \u001b[1;33m\u001b[0m\u001b[0m\n\u001b[0;32m    538\u001b[0m         \u001b[1;31m# changing the way we query fuels in version 0.3.1\u001b[0m\u001b[1;33m\u001b[0m\u001b[1;33m\u001b[0m\u001b[1;33m\u001b[0m\u001b[0m\n",
      "\u001b[1;32m~\\anaconda3\\lib\\site-packages\\fastfuels\\core.py\u001b[0m in \u001b[0;36mquery_geographic\u001b[1;34m(self, lon, lat, radius, property)\u001b[0m\n\u001b[0;32m    679\u001b[0m         \u001b[0my2\u001b[0m \u001b[1;33m=\u001b[0m \u001b[0my1\u001b[0m \u001b[1;33m-\u001b[0m \u001b[0mradius\u001b[0m\u001b[1;33m*\u001b[0m\u001b[1;36m2\u001b[0m\u001b[1;33m\u001b[0m\u001b[1;33m\u001b[0m\u001b[0m\n\u001b[0;32m    680\u001b[0m \u001b[1;33m\u001b[0m\u001b[0m\n\u001b[1;32m--> 681\u001b[1;33m         \u001b[1;32mreturn\u001b[0m \u001b[0mself\u001b[0m\u001b[1;33m.\u001b[0m\u001b[0mquery_projected\u001b[0m\u001b[1;33m(\u001b[0m\u001b[1;33m(\u001b[0m\u001b[0mx1\u001b[0m\u001b[1;33m,\u001b[0m \u001b[0my1\u001b[0m\u001b[1;33m)\u001b[0m\u001b[1;33m,\u001b[0m \u001b[1;33m(\u001b[0m\u001b[0mx2\u001b[0m\u001b[1;33m,\u001b[0m \u001b[0my2\u001b[0m\u001b[1;33m)\u001b[0m\u001b[1;33m,\u001b[0m \u001b[0mproperty\u001b[0m\u001b[1;33m)\u001b[0m\u001b[1;33m\u001b[0m\u001b[1;33m\u001b[0m\u001b[0m\n\u001b[0m\u001b[0;32m    682\u001b[0m \u001b[1;33m\u001b[0m\u001b[0m\n\u001b[0;32m    683\u001b[0m     \u001b[1;32mdef\u001b[0m \u001b[0mslice_and_merge\u001b[0m\u001b[1;33m(\u001b[0m\u001b[0mself\u001b[0m\u001b[1;33m,\u001b[0m \u001b[0my1\u001b[0m\u001b[1;33m,\u001b[0m \u001b[0my2\u001b[0m\u001b[1;33m,\u001b[0m \u001b[0mx1\u001b[0m\u001b[1;33m,\u001b[0m \u001b[0mx2\u001b[0m\u001b[1;33m,\u001b[0m \u001b[0mprop\u001b[0m\u001b[1;33m,\u001b[0m \u001b[0mextent\u001b[0m\u001b[1;33m)\u001b[0m\u001b[1;33m:\u001b[0m\u001b[1;33m\u001b[0m\u001b[1;33m\u001b[0m\u001b[0m\n",
      "\u001b[1;32m~\\anaconda3\\lib\\site-packages\\fastfuels\\core.py\u001b[0m in \u001b[0;36mquery_projected\u001b[1;34m(self, a, b, property)\u001b[0m\n\u001b[0;32m    607\u001b[0m                 \u001b[0mname\u001b[0m \u001b[1;33m=\u001b[0m \u001b[0mmatches\u001b[0m\u001b[1;33m[\u001b[0m\u001b[1;36m0\u001b[0m\u001b[1;33m]\u001b[0m\u001b[1;33m.\u001b[0m\u001b[0mname\u001b[0m\u001b[1;33m\u001b[0m\u001b[1;33m\u001b[0m\u001b[0m\n\u001b[0;32m    608\u001b[0m                 \u001b[0mprint\u001b[0m\u001b[1;33m(\u001b[0m\u001b[1;34mf'Bounding box query found in single source: {name}'\u001b[0m\u001b[1;33m)\u001b[0m\u001b[1;33m\u001b[0m\u001b[1;33m\u001b[0m\u001b[0m\n\u001b[1;32m--> 609\u001b[1;33m                 \u001b[1;32mreturn\u001b[0m \u001b[0mself\u001b[0m\u001b[1;33m.\u001b[0m\u001b[0m_indexed_query_projected\u001b[0m\u001b[1;33m(\u001b[0m\u001b[0mname\u001b[0m\u001b[1;33m,\u001b[0m \u001b[0ma\u001b[0m\u001b[1;33m,\u001b[0m \u001b[0mb\u001b[0m\u001b[1;33m,\u001b[0m \u001b[0mproperty\u001b[0m\u001b[1;33m)\u001b[0m\u001b[1;33m\u001b[0m\u001b[1;33m\u001b[0m\u001b[0m\n\u001b[0m\u001b[0;32m    610\u001b[0m             \u001b[1;32melse\u001b[0m\u001b[1;33m:\u001b[0m\u001b[1;33m\u001b[0m\u001b[1;33m\u001b[0m\u001b[0m\n\u001b[0;32m    611\u001b[0m                 \u001b[0mprint\u001b[0m\u001b[1;33m(\u001b[0m\u001b[1;34mf'WARNING: bounding box query found in multiple ({num_matches}) sources; choosing a single one.'\u001b[0m\u001b[1;33m)\u001b[0m\u001b[1;33m\u001b[0m\u001b[1;33m\u001b[0m\u001b[0m\n",
      "\u001b[1;32m~\\anaconda3\\lib\\site-packages\\fastfuels\\core.py\u001b[0m in \u001b[0;36m_indexed_query_projected\u001b[1;34m(self, name, a, b, property)\u001b[0m\n\u001b[0;32m    667\u001b[0m         \u001b[0mfuels\u001b[0m\u001b[1;33m.\u001b[0m\u001b[0mcache_limit\u001b[0m \u001b[1;33m=\u001b[0m \u001b[0mself\u001b[0m\u001b[1;33m.\u001b[0m\u001b[0mcache_limit\u001b[0m\u001b[1;33m\u001b[0m\u001b[1;33m\u001b[0m\u001b[0m\n\u001b[0;32m    668\u001b[0m \u001b[1;33m\u001b[0m\u001b[0m\n\u001b[1;32m--> 669\u001b[1;33m         \u001b[1;32mreturn\u001b[0m \u001b[0mfuels\u001b[0m\u001b[1;33m.\u001b[0m\u001b[0mquery_projected\u001b[0m\u001b[1;33m(\u001b[0m\u001b[0ma\u001b[0m\u001b[1;33m,\u001b[0m \u001b[0mb\u001b[0m\u001b[1;33m,\u001b[0m \u001b[0mproperty\u001b[0m\u001b[1;33m)\u001b[0m\u001b[1;33m\u001b[0m\u001b[1;33m\u001b[0m\u001b[0m\n\u001b[0m\u001b[0;32m    670\u001b[0m \u001b[1;33m\u001b[0m\u001b[0m\n\u001b[0;32m    671\u001b[0m \u001b[1;33m\u001b[0m\u001b[0m\n",
      "\u001b[1;32m~\\anaconda3\\lib\\site-packages\\fastfuels\\core.py\u001b[0m in \u001b[0;36mquery_projected\u001b[1;34m(self, a, b, property)\u001b[0m\n\u001b[0;32m    640\u001b[0m         \u001b[0my2_rel\u001b[0m \u001b[1;33m=\u001b[0m \u001b[0mint\u001b[0m\u001b[1;33m(\u001b[0m\u001b[0mself\u001b[0m\u001b[1;33m.\u001b[0m\u001b[0mextent_y1\u001b[0m \u001b[1;33m-\u001b[0m \u001b[0my2\u001b[0m\u001b[1;33m)\u001b[0m\u001b[1;33m\u001b[0m\u001b[1;33m\u001b[0m\u001b[0m\n\u001b[0;32m    641\u001b[0m \u001b[1;33m\u001b[0m\u001b[0m\n\u001b[1;32m--> 642\u001b[1;33m         \u001b[1;32mreturn\u001b[0m \u001b[0mself\u001b[0m\u001b[1;33m.\u001b[0m\u001b[0mquery_relative\u001b[0m\u001b[1;33m(\u001b[0m\u001b[1;33m(\u001b[0m\u001b[0mx1_rel\u001b[0m\u001b[1;33m,\u001b[0m \u001b[0my1_rel\u001b[0m\u001b[1;33m)\u001b[0m\u001b[1;33m,\u001b[0m \u001b[1;33m(\u001b[0m\u001b[0mx2_rel\u001b[0m\u001b[1;33m,\u001b[0m \u001b[0my2_rel\u001b[0m\u001b[1;33m)\u001b[0m\u001b[1;33m,\u001b[0m \u001b[0mproperty\u001b[0m\u001b[1;33m,\u001b[0m \u001b[0mquery_extent\u001b[0m\u001b[1;33m)\u001b[0m\u001b[1;33m\u001b[0m\u001b[1;33m\u001b[0m\u001b[0m\n\u001b[0m\u001b[0;32m    643\u001b[0m \u001b[1;33m\u001b[0m\u001b[0m\n\u001b[0;32m    644\u001b[0m \u001b[1;33m\u001b[0m\u001b[0m\n",
      "\u001b[1;32m~\\anaconda3\\lib\\site-packages\\fastfuels\\core.py\u001b[0m in \u001b[0;36mquery_relative\u001b[1;34m(self, a, b, property, extent)\u001b[0m\n\u001b[0;32m    579\u001b[0m         \u001b[1;32mif\u001b[0m \u001b[0mself\u001b[0m\u001b[1;33m.\u001b[0m\u001b[0mcheck_bounds\u001b[0m\u001b[1;33m(\u001b[0m\u001b[0mx1\u001b[0m\u001b[1;33m,\u001b[0m \u001b[0my1\u001b[0m\u001b[1;33m,\u001b[0m \u001b[0mx2\u001b[0m\u001b[1;33m,\u001b[0m \u001b[0my2\u001b[0m\u001b[1;33m)\u001b[0m\u001b[1;33m:\u001b[0m\u001b[1;33m\u001b[0m\u001b[1;33m\u001b[0m\u001b[0m\n\u001b[0;32m    580\u001b[0m             \u001b[1;32mif\u001b[0m \u001b[0mself\u001b[0m\u001b[1;33m.\u001b[0m\u001b[0mcheck_cache\u001b[0m\u001b[1;33m(\u001b[0m\u001b[0mx1\u001b[0m\u001b[1;33m,\u001b[0m \u001b[0my1\u001b[0m\u001b[1;33m,\u001b[0m \u001b[0mx2\u001b[0m\u001b[1;33m,\u001b[0m \u001b[0my2\u001b[0m\u001b[1;33m)\u001b[0m\u001b[1;33m:\u001b[0m\u001b[1;33m\u001b[0m\u001b[1;33m\u001b[0m\u001b[0m\n\u001b[1;32m--> 581\u001b[1;33m                 \u001b[1;32mreturn\u001b[0m \u001b[0mself\u001b[0m\u001b[1;33m.\u001b[0m\u001b[0mslice_and_merge\u001b[0m\u001b[1;33m(\u001b[0m\u001b[0my1\u001b[0m\u001b[1;33m,\u001b[0m \u001b[0my2\u001b[0m\u001b[1;33m,\u001b[0m \u001b[0mx1\u001b[0m\u001b[1;33m,\u001b[0m \u001b[0mx2\u001b[0m\u001b[1;33m,\u001b[0m \u001b[0mproperty\u001b[0m\u001b[1;33m,\u001b[0m \u001b[0mextent\u001b[0m\u001b[1;33m)\u001b[0m\u001b[1;33m\u001b[0m\u001b[1;33m\u001b[0m\u001b[0m\n\u001b[0m\u001b[0;32m    582\u001b[0m             \u001b[1;32melse\u001b[0m\u001b[1;33m:\u001b[0m\u001b[1;33m\u001b[0m\u001b[1;33m\u001b[0m\u001b[0m\n\u001b[0;32m    583\u001b[0m                 \u001b[0mprint\u001b[0m\u001b[1;33m(\u001b[0m\u001b[1;34m'ERROR: area too large'\u001b[0m\u001b[1;33m)\u001b[0m\u001b[1;33m\u001b[0m\u001b[1;33m\u001b[0m\u001b[0m\n",
      "\u001b[1;32m~\\anaconda3\\lib\\site-packages\\fastfuels\\core.py\u001b[0m in \u001b[0;36mslice_and_merge\u001b[1;34m(self, y1, y2, x1, x2, prop, extent)\u001b[0m\n\u001b[0;32m    698\u001b[0m             \u001b[0mcanopy_moisture\u001b[0m\u001b[1;33m[\u001b[0m\u001b[0mcanopy_bulk_density\u001b[0m \u001b[1;33m!=\u001b[0m \u001b[1;36m0\u001b[0m\u001b[1;33m]\u001b[0m \u001b[1;33m=\u001b[0m \u001b[1;36m1.0\u001b[0m \u001b[1;31m# hardcoded for now\u001b[0m\u001b[1;33m\u001b[0m\u001b[1;33m\u001b[0m\u001b[0m\n\u001b[0;32m    699\u001b[0m \u001b[1;33m\u001b[0m\u001b[0m\n\u001b[1;32m--> 700\u001b[1;33m             \u001b[0msurface_loading\u001b[0m \u001b[1;33m=\u001b[0m \u001b[0mself\u001b[0m\u001b[1;33m.\u001b[0m\u001b[0msurface_loading\u001b[0m\u001b[1;33m[\u001b[0m\u001b[0my1\u001b[0m\u001b[1;33m:\u001b[0m\u001b[0my2\u001b[0m\u001b[1;33m,\u001b[0m \u001b[0mx1\u001b[0m\u001b[1;33m:\u001b[0m\u001b[0mx2\u001b[0m\u001b[1;33m]\u001b[0m\u001b[1;33m.\u001b[0m\u001b[0mastype\u001b[0m\u001b[1;33m(\u001b[0m\u001b[0mnp\u001b[0m\u001b[1;33m.\u001b[0m\u001b[0mfloat32\u001b[0m\u001b[1;33m)\u001b[0m\u001b[1;33m\u001b[0m\u001b[1;33m\u001b[0m\u001b[0m\n\u001b[0m\u001b[0;32m    701\u001b[0m             \u001b[0msurface_loading\u001b[0m \u001b[1;33m=\u001b[0m \u001b[1;33m(\u001b[0m\u001b[0msurface_loading\u001b[0m\u001b[1;33m/\u001b[0m\u001b[1;36m255\u001b[0m\u001b[1;33m)\u001b[0m\u001b[1;33m*\u001b[0m\u001b[1;36m3.0\u001b[0m\u001b[1;33m\u001b[0m\u001b[1;33m\u001b[0m\u001b[0m\n\u001b[0;32m    702\u001b[0m \u001b[1;33m\u001b[0m\u001b[0m\n",
      "\u001b[1;32m~\\anaconda3\\lib\\site-packages\\zarr\\core.py\u001b[0m in \u001b[0;36m__getitem__\u001b[1;34m(self, selection)\u001b[0m\n\u001b[0;32m    660\u001b[0m \u001b[1;33m\u001b[0m\u001b[0m\n\u001b[0;32m    661\u001b[0m         \u001b[0mfields\u001b[0m\u001b[1;33m,\u001b[0m \u001b[0mselection\u001b[0m \u001b[1;33m=\u001b[0m \u001b[0mpop_fields\u001b[0m\u001b[1;33m(\u001b[0m\u001b[0mselection\u001b[0m\u001b[1;33m)\u001b[0m\u001b[1;33m\u001b[0m\u001b[1;33m\u001b[0m\u001b[0m\n\u001b[1;32m--> 662\u001b[1;33m         \u001b[1;32mreturn\u001b[0m \u001b[0mself\u001b[0m\u001b[1;33m.\u001b[0m\u001b[0mget_basic_selection\u001b[0m\u001b[1;33m(\u001b[0m\u001b[0mselection\u001b[0m\u001b[1;33m,\u001b[0m \u001b[0mfields\u001b[0m\u001b[1;33m=\u001b[0m\u001b[0mfields\u001b[0m\u001b[1;33m)\u001b[0m\u001b[1;33m\u001b[0m\u001b[1;33m\u001b[0m\u001b[0m\n\u001b[0m\u001b[0;32m    663\u001b[0m \u001b[1;33m\u001b[0m\u001b[0m\n\u001b[0;32m    664\u001b[0m     \u001b[1;32mdef\u001b[0m \u001b[0mget_basic_selection\u001b[0m\u001b[1;33m(\u001b[0m\u001b[0mself\u001b[0m\u001b[1;33m,\u001b[0m \u001b[0mselection\u001b[0m\u001b[1;33m=\u001b[0m\u001b[0mEllipsis\u001b[0m\u001b[1;33m,\u001b[0m \u001b[0mout\u001b[0m\u001b[1;33m=\u001b[0m\u001b[1;32mNone\u001b[0m\u001b[1;33m,\u001b[0m \u001b[0mfields\u001b[0m\u001b[1;33m=\u001b[0m\u001b[1;32mNone\u001b[0m\u001b[1;33m)\u001b[0m\u001b[1;33m:\u001b[0m\u001b[1;33m\u001b[0m\u001b[1;33m\u001b[0m\u001b[0m\n",
      "\u001b[1;32m~\\anaconda3\\lib\\site-packages\\zarr\\core.py\u001b[0m in \u001b[0;36mget_basic_selection\u001b[1;34m(self, selection, out, fields)\u001b[0m\n\u001b[0;32m    785\u001b[0m                                                 fields=fields)\n\u001b[0;32m    786\u001b[0m         \u001b[1;32melse\u001b[0m\u001b[1;33m:\u001b[0m\u001b[1;33m\u001b[0m\u001b[1;33m\u001b[0m\u001b[0m\n\u001b[1;32m--> 787\u001b[1;33m             return self._get_basic_selection_nd(selection=selection, out=out,\n\u001b[0m\u001b[0;32m    788\u001b[0m                                                 fields=fields)\n\u001b[0;32m    789\u001b[0m \u001b[1;33m\u001b[0m\u001b[0m\n",
      "\u001b[1;32m~\\anaconda3\\lib\\site-packages\\zarr\\core.py\u001b[0m in \u001b[0;36m_get_basic_selection_nd\u001b[1;34m(self, selection, out, fields)\u001b[0m\n\u001b[0;32m    828\u001b[0m         \u001b[0mindexer\u001b[0m \u001b[1;33m=\u001b[0m \u001b[0mBasicIndexer\u001b[0m\u001b[1;33m(\u001b[0m\u001b[0mselection\u001b[0m\u001b[1;33m,\u001b[0m \u001b[0mself\u001b[0m\u001b[1;33m)\u001b[0m\u001b[1;33m\u001b[0m\u001b[1;33m\u001b[0m\u001b[0m\n\u001b[0;32m    829\u001b[0m \u001b[1;33m\u001b[0m\u001b[0m\n\u001b[1;32m--> 830\u001b[1;33m         \u001b[1;32mreturn\u001b[0m \u001b[0mself\u001b[0m\u001b[1;33m.\u001b[0m\u001b[0m_get_selection\u001b[0m\u001b[1;33m(\u001b[0m\u001b[0mindexer\u001b[0m\u001b[1;33m=\u001b[0m\u001b[0mindexer\u001b[0m\u001b[1;33m,\u001b[0m \u001b[0mout\u001b[0m\u001b[1;33m=\u001b[0m\u001b[0mout\u001b[0m\u001b[1;33m,\u001b[0m \u001b[0mfields\u001b[0m\u001b[1;33m=\u001b[0m\u001b[0mfields\u001b[0m\u001b[1;33m)\u001b[0m\u001b[1;33m\u001b[0m\u001b[1;33m\u001b[0m\u001b[0m\n\u001b[0m\u001b[0;32m    831\u001b[0m \u001b[1;33m\u001b[0m\u001b[0m\n\u001b[0;32m    832\u001b[0m     \u001b[1;32mdef\u001b[0m \u001b[0mget_orthogonal_selection\u001b[0m\u001b[1;33m(\u001b[0m\u001b[0mself\u001b[0m\u001b[1;33m,\u001b[0m \u001b[0mselection\u001b[0m\u001b[1;33m,\u001b[0m \u001b[0mout\u001b[0m\u001b[1;33m=\u001b[0m\u001b[1;32mNone\u001b[0m\u001b[1;33m,\u001b[0m \u001b[0mfields\u001b[0m\u001b[1;33m=\u001b[0m\u001b[1;32mNone\u001b[0m\u001b[1;33m)\u001b[0m\u001b[1;33m:\u001b[0m\u001b[1;33m\u001b[0m\u001b[1;33m\u001b[0m\u001b[0m\n",
      "\u001b[1;32m~\\anaconda3\\lib\\site-packages\\zarr\\core.py\u001b[0m in \u001b[0;36m_get_selection\u001b[1;34m(self, indexer, out, fields)\u001b[0m\n\u001b[0;32m   1123\u001b[0m             \u001b[1;31m# allow storage to get multiple items at once\u001b[0m\u001b[1;33m\u001b[0m\u001b[1;33m\u001b[0m\u001b[1;33m\u001b[0m\u001b[0m\n\u001b[0;32m   1124\u001b[0m             \u001b[0mlchunk_coords\u001b[0m\u001b[1;33m,\u001b[0m \u001b[0mlchunk_selection\u001b[0m\u001b[1;33m,\u001b[0m \u001b[0mlout_selection\u001b[0m \u001b[1;33m=\u001b[0m \u001b[0mzip\u001b[0m\u001b[1;33m(\u001b[0m\u001b[1;33m*\u001b[0m\u001b[0mindexer\u001b[0m\u001b[1;33m)\u001b[0m\u001b[1;33m\u001b[0m\u001b[1;33m\u001b[0m\u001b[0m\n\u001b[1;32m-> 1125\u001b[1;33m             self._chunk_getitems(lchunk_coords, lchunk_selection, out, lout_selection,\n\u001b[0m\u001b[0;32m   1126\u001b[0m                                  drop_axes=indexer.drop_axes, fields=fields)\n\u001b[0;32m   1127\u001b[0m \u001b[1;33m\u001b[0m\u001b[0m\n",
      "\u001b[1;32m~\\anaconda3\\lib\\site-packages\\zarr\\core.py\u001b[0m in \u001b[0;36m_chunk_getitems\u001b[1;34m(self, lchunk_coords, lchunk_selection, out, lout_selection, drop_axes, fields)\u001b[0m\n\u001b[0;32m   1834\u001b[0m         \u001b[1;32melse\u001b[0m\u001b[1;33m:\u001b[0m\u001b[1;33m\u001b[0m\u001b[1;33m\u001b[0m\u001b[0m\n\u001b[0;32m   1835\u001b[0m             \u001b[0mpartial_read_decode\u001b[0m \u001b[1;33m=\u001b[0m \u001b[1;32mFalse\u001b[0m\u001b[1;33m\u001b[0m\u001b[1;33m\u001b[0m\u001b[0m\n\u001b[1;32m-> 1836\u001b[1;33m             \u001b[0mcdatas\u001b[0m \u001b[1;33m=\u001b[0m \u001b[0mself\u001b[0m\u001b[1;33m.\u001b[0m\u001b[0mchunk_store\u001b[0m\u001b[1;33m.\u001b[0m\u001b[0mgetitems\u001b[0m\u001b[1;33m(\u001b[0m\u001b[0mckeys\u001b[0m\u001b[1;33m,\u001b[0m \u001b[0mon_error\u001b[0m\u001b[1;33m=\u001b[0m\u001b[1;34m\"omit\"\u001b[0m\u001b[1;33m)\u001b[0m\u001b[1;33m\u001b[0m\u001b[1;33m\u001b[0m\u001b[0m\n\u001b[0m\u001b[0;32m   1837\u001b[0m         \u001b[1;32mfor\u001b[0m \u001b[0mckey\u001b[0m\u001b[1;33m,\u001b[0m \u001b[0mchunk_select\u001b[0m\u001b[1;33m,\u001b[0m \u001b[0mout_select\u001b[0m \u001b[1;32min\u001b[0m \u001b[0mzip\u001b[0m\u001b[1;33m(\u001b[0m\u001b[0mckeys\u001b[0m\u001b[1;33m,\u001b[0m \u001b[0mlchunk_selection\u001b[0m\u001b[1;33m,\u001b[0m \u001b[0mlout_selection\u001b[0m\u001b[1;33m)\u001b[0m\u001b[1;33m:\u001b[0m\u001b[1;33m\u001b[0m\u001b[1;33m\u001b[0m\u001b[0m\n\u001b[0;32m   1838\u001b[0m             \u001b[1;32mif\u001b[0m \u001b[0mckey\u001b[0m \u001b[1;32min\u001b[0m \u001b[0mcdatas\u001b[0m\u001b[1;33m:\u001b[0m\u001b[1;33m\u001b[0m\u001b[1;33m\u001b[0m\u001b[0m\n",
      "\u001b[1;32m~\\anaconda3\\lib\\site-packages\\fsspec\\mapping.py\u001b[0m in \u001b[0;36mgetitems\u001b[1;34m(self, keys, on_error)\u001b[0m\n\u001b[0;32m     87\u001b[0m         \u001b[0moe\u001b[0m \u001b[1;33m=\u001b[0m \u001b[0mon_error\u001b[0m \u001b[1;32mif\u001b[0m \u001b[0mon_error\u001b[0m \u001b[1;33m==\u001b[0m \u001b[1;34m\"raise\"\u001b[0m \u001b[1;32melse\u001b[0m \u001b[1;34m\"return\"\u001b[0m\u001b[1;33m\u001b[0m\u001b[1;33m\u001b[0m\u001b[0m\n\u001b[0;32m     88\u001b[0m         \u001b[1;32mtry\u001b[0m\u001b[1;33m:\u001b[0m\u001b[1;33m\u001b[0m\u001b[1;33m\u001b[0m\u001b[0m\n\u001b[1;32m---> 89\u001b[1;33m             \u001b[0mout\u001b[0m \u001b[1;33m=\u001b[0m \u001b[0mself\u001b[0m\u001b[1;33m.\u001b[0m\u001b[0mfs\u001b[0m\u001b[1;33m.\u001b[0m\u001b[0mcat\u001b[0m\u001b[1;33m(\u001b[0m\u001b[0mkeys2\u001b[0m\u001b[1;33m,\u001b[0m \u001b[0mon_error\u001b[0m\u001b[1;33m=\u001b[0m\u001b[0moe\u001b[0m\u001b[1;33m)\u001b[0m\u001b[1;33m\u001b[0m\u001b[1;33m\u001b[0m\u001b[0m\n\u001b[0m\u001b[0;32m     90\u001b[0m         \u001b[1;32mexcept\u001b[0m \u001b[0mself\u001b[0m\u001b[1;33m.\u001b[0m\u001b[0mmissing_exceptions\u001b[0m \u001b[1;32mas\u001b[0m \u001b[0me\u001b[0m\u001b[1;33m:\u001b[0m\u001b[1;33m\u001b[0m\u001b[1;33m\u001b[0m\u001b[0m\n\u001b[0;32m     91\u001b[0m             \u001b[1;32mraise\u001b[0m \u001b[0mKeyError\u001b[0m \u001b[1;32mfrom\u001b[0m \u001b[0me\u001b[0m\u001b[1;33m\u001b[0m\u001b[1;33m\u001b[0m\u001b[0m\n",
      "\u001b[1;32m~\\anaconda3\\lib\\site-packages\\fsspec\\asyn.py\u001b[0m in \u001b[0;36mcat\u001b[1;34m(self, path, recursive, on_error, **kwargs)\u001b[0m\n\u001b[0;32m    221\u001b[0m     \u001b[1;32mdef\u001b[0m \u001b[0mcat\u001b[0m\u001b[1;33m(\u001b[0m\u001b[0mself\u001b[0m\u001b[1;33m,\u001b[0m \u001b[0mpath\u001b[0m\u001b[1;33m,\u001b[0m \u001b[0mrecursive\u001b[0m\u001b[1;33m=\u001b[0m\u001b[1;32mFalse\u001b[0m\u001b[1;33m,\u001b[0m \u001b[0mon_error\u001b[0m\u001b[1;33m=\u001b[0m\u001b[1;34m\"raise\"\u001b[0m\u001b[1;33m,\u001b[0m \u001b[1;33m**\u001b[0m\u001b[0mkwargs\u001b[0m\u001b[1;33m)\u001b[0m\u001b[1;33m:\u001b[0m\u001b[1;33m\u001b[0m\u001b[1;33m\u001b[0m\u001b[0m\n\u001b[0;32m    222\u001b[0m         \u001b[0mpaths\u001b[0m \u001b[1;33m=\u001b[0m \u001b[0mself\u001b[0m\u001b[1;33m.\u001b[0m\u001b[0mexpand_path\u001b[0m\u001b[1;33m(\u001b[0m\u001b[0mpath\u001b[0m\u001b[1;33m,\u001b[0m \u001b[0mrecursive\u001b[0m\u001b[1;33m=\u001b[0m\u001b[0mrecursive\u001b[0m\u001b[1;33m)\u001b[0m\u001b[1;33m\u001b[0m\u001b[1;33m\u001b[0m\u001b[0m\n\u001b[1;32m--> 223\u001b[1;33m         \u001b[0mout\u001b[0m \u001b[1;33m=\u001b[0m \u001b[0mmaybe_sync\u001b[0m\u001b[1;33m(\u001b[0m\u001b[0mself\u001b[0m\u001b[1;33m.\u001b[0m\u001b[0m_cat\u001b[0m\u001b[1;33m,\u001b[0m \u001b[0mself\u001b[0m\u001b[1;33m,\u001b[0m \u001b[0mpaths\u001b[0m\u001b[1;33m,\u001b[0m \u001b[1;33m**\u001b[0m\u001b[0mkwargs\u001b[0m\u001b[1;33m)\u001b[0m\u001b[1;33m\u001b[0m\u001b[1;33m\u001b[0m\u001b[0m\n\u001b[0m\u001b[0;32m    224\u001b[0m         \u001b[1;32mif\u001b[0m \u001b[0mon_error\u001b[0m \u001b[1;33m==\u001b[0m \u001b[1;34m\"raise\"\u001b[0m\u001b[1;33m:\u001b[0m\u001b[1;33m\u001b[0m\u001b[1;33m\u001b[0m\u001b[0m\n\u001b[0;32m    225\u001b[0m             \u001b[0mex\u001b[0m \u001b[1;33m=\u001b[0m \u001b[0mnext\u001b[0m\u001b[1;33m(\u001b[0m\u001b[0mfilter\u001b[0m\u001b[1;33m(\u001b[0m\u001b[0mis_exception\u001b[0m\u001b[1;33m,\u001b[0m \u001b[0mout\u001b[0m\u001b[1;33m)\u001b[0m\u001b[1;33m,\u001b[0m \u001b[1;32mFalse\u001b[0m\u001b[1;33m)\u001b[0m\u001b[1;33m\u001b[0m\u001b[1;33m\u001b[0m\u001b[0m\n",
      "\u001b[1;32m~\\anaconda3\\lib\\site-packages\\fsspec\\asyn.py\u001b[0m in \u001b[0;36mmaybe_sync\u001b[1;34m(func, self, *args, **kwargs)\u001b[0m\n\u001b[0;32m     95\u001b[0m         \u001b[1;32mif\u001b[0m \u001b[0minspect\u001b[0m\u001b[1;33m.\u001b[0m\u001b[0miscoroutinefunction\u001b[0m\u001b[1;33m(\u001b[0m\u001b[0mfunc\u001b[0m\u001b[1;33m)\u001b[0m\u001b[1;33m:\u001b[0m\u001b[1;33m\u001b[0m\u001b[1;33m\u001b[0m\u001b[0m\n\u001b[0;32m     96\u001b[0m             \u001b[1;31m# run the awaitable on the loop\u001b[0m\u001b[1;33m\u001b[0m\u001b[1;33m\u001b[0m\u001b[1;33m\u001b[0m\u001b[0m\n\u001b[1;32m---> 97\u001b[1;33m             \u001b[1;32mreturn\u001b[0m \u001b[0msync\u001b[0m\u001b[1;33m(\u001b[0m\u001b[0mloop\u001b[0m\u001b[1;33m,\u001b[0m \u001b[0mfunc\u001b[0m\u001b[1;33m,\u001b[0m \u001b[1;33m*\u001b[0m\u001b[0margs\u001b[0m\u001b[1;33m,\u001b[0m \u001b[1;33m**\u001b[0m\u001b[0mkwargs\u001b[0m\u001b[1;33m)\u001b[0m\u001b[1;33m\u001b[0m\u001b[1;33m\u001b[0m\u001b[0m\n\u001b[0m\u001b[0;32m     98\u001b[0m         \u001b[1;32melse\u001b[0m\u001b[1;33m:\u001b[0m\u001b[1;33m\u001b[0m\u001b[1;33m\u001b[0m\u001b[0m\n\u001b[0;32m     99\u001b[0m             \u001b[1;31m# just call the blocking function\u001b[0m\u001b[1;33m\u001b[0m\u001b[1;33m\u001b[0m\u001b[1;33m\u001b[0m\u001b[0m\n",
      "\u001b[1;32m~\\anaconda3\\lib\\site-packages\\fsspec\\asyn.py\u001b[0m in \u001b[0;36msync\u001b[1;34m(loop, func, callback_timeout, *args, **kwargs)\u001b[0m\n\u001b[0;32m     63\u001b[0m     \u001b[1;32melse\u001b[0m\u001b[1;33m:\u001b[0m\u001b[1;33m\u001b[0m\u001b[1;33m\u001b[0m\u001b[0m\n\u001b[0;32m     64\u001b[0m         \u001b[1;32mwhile\u001b[0m \u001b[1;32mnot\u001b[0m \u001b[0me\u001b[0m\u001b[1;33m.\u001b[0m\u001b[0mis_set\u001b[0m\u001b[1;33m(\u001b[0m\u001b[1;33m)\u001b[0m\u001b[1;33m:\u001b[0m\u001b[1;33m\u001b[0m\u001b[1;33m\u001b[0m\u001b[0m\n\u001b[1;32m---> 65\u001b[1;33m             \u001b[0me\u001b[0m\u001b[1;33m.\u001b[0m\u001b[0mwait\u001b[0m\u001b[1;33m(\u001b[0m\u001b[1;36m10\u001b[0m\u001b[1;33m)\u001b[0m\u001b[1;33m\u001b[0m\u001b[1;33m\u001b[0m\u001b[0m\n\u001b[0m\u001b[0;32m     66\u001b[0m     \u001b[1;32mif\u001b[0m \u001b[0merror\u001b[0m\u001b[1;33m[\u001b[0m\u001b[1;36m0\u001b[0m\u001b[1;33m]\u001b[0m\u001b[1;33m:\u001b[0m\u001b[1;33m\u001b[0m\u001b[1;33m\u001b[0m\u001b[0m\n\u001b[0;32m     67\u001b[0m         \u001b[0mtyp\u001b[0m\u001b[1;33m,\u001b[0m \u001b[0mexc\u001b[0m\u001b[1;33m,\u001b[0m \u001b[0mtb\u001b[0m \u001b[1;33m=\u001b[0m \u001b[0merror\u001b[0m\u001b[1;33m[\u001b[0m\u001b[1;36m0\u001b[0m\u001b[1;33m]\u001b[0m\u001b[1;33m\u001b[0m\u001b[1;33m\u001b[0m\u001b[0m\n",
      "\u001b[1;32m~\\anaconda3\\lib\\threading.py\u001b[0m in \u001b[0;36mwait\u001b[1;34m(self, timeout)\u001b[0m\n\u001b[0;32m    556\u001b[0m             \u001b[0msignaled\u001b[0m \u001b[1;33m=\u001b[0m \u001b[0mself\u001b[0m\u001b[1;33m.\u001b[0m\u001b[0m_flag\u001b[0m\u001b[1;33m\u001b[0m\u001b[1;33m\u001b[0m\u001b[0m\n\u001b[0;32m    557\u001b[0m             \u001b[1;32mif\u001b[0m \u001b[1;32mnot\u001b[0m \u001b[0msignaled\u001b[0m\u001b[1;33m:\u001b[0m\u001b[1;33m\u001b[0m\u001b[1;33m\u001b[0m\u001b[0m\n\u001b[1;32m--> 558\u001b[1;33m                 \u001b[0msignaled\u001b[0m \u001b[1;33m=\u001b[0m \u001b[0mself\u001b[0m\u001b[1;33m.\u001b[0m\u001b[0m_cond\u001b[0m\u001b[1;33m.\u001b[0m\u001b[0mwait\u001b[0m\u001b[1;33m(\u001b[0m\u001b[0mtimeout\u001b[0m\u001b[1;33m)\u001b[0m\u001b[1;33m\u001b[0m\u001b[1;33m\u001b[0m\u001b[0m\n\u001b[0m\u001b[0;32m    559\u001b[0m             \u001b[1;32mreturn\u001b[0m \u001b[0msignaled\u001b[0m\u001b[1;33m\u001b[0m\u001b[1;33m\u001b[0m\u001b[0m\n\u001b[0;32m    560\u001b[0m \u001b[1;33m\u001b[0m\u001b[0m\n",
      "\u001b[1;32m~\\anaconda3\\lib\\threading.py\u001b[0m in \u001b[0;36mwait\u001b[1;34m(self, timeout)\u001b[0m\n\u001b[0;32m    304\u001b[0m             \u001b[1;32melse\u001b[0m\u001b[1;33m:\u001b[0m\u001b[1;33m\u001b[0m\u001b[1;33m\u001b[0m\u001b[0m\n\u001b[0;32m    305\u001b[0m                 \u001b[1;32mif\u001b[0m \u001b[0mtimeout\u001b[0m \u001b[1;33m>\u001b[0m \u001b[1;36m0\u001b[0m\u001b[1;33m:\u001b[0m\u001b[1;33m\u001b[0m\u001b[1;33m\u001b[0m\u001b[0m\n\u001b[1;32m--> 306\u001b[1;33m                     \u001b[0mgotit\u001b[0m \u001b[1;33m=\u001b[0m \u001b[0mwaiter\u001b[0m\u001b[1;33m.\u001b[0m\u001b[0macquire\u001b[0m\u001b[1;33m(\u001b[0m\u001b[1;32mTrue\u001b[0m\u001b[1;33m,\u001b[0m \u001b[0mtimeout\u001b[0m\u001b[1;33m)\u001b[0m\u001b[1;33m\u001b[0m\u001b[1;33m\u001b[0m\u001b[0m\n\u001b[0m\u001b[0;32m    307\u001b[0m                 \u001b[1;32melse\u001b[0m\u001b[1;33m:\u001b[0m\u001b[1;33m\u001b[0m\u001b[1;33m\u001b[0m\u001b[0m\n\u001b[0;32m    308\u001b[0m                     \u001b[0mgotit\u001b[0m \u001b[1;33m=\u001b[0m \u001b[0mwaiter\u001b[0m\u001b[1;33m.\u001b[0m\u001b[0macquire\u001b[0m\u001b[1;33m(\u001b[0m\u001b[1;32mFalse\u001b[0m\u001b[1;33m)\u001b[0m\u001b[1;33m\u001b[0m\u001b[1;33m\u001b[0m\u001b[0m\n",
      "\u001b[1;31mKeyboardInterrupt\u001b[0m: "
     ]
    }
   ],
   "source": [
    "# 1\n",
    "mean_list = []\n",
    "\n",
    "for long in range(-124000, -117000, 500):\n",
    "    for lat in range(42000, 45000, 500):\n",
    "        print(long,lat)\n",
    "        mean_list.append([get_voxel(lat/1000, long/1000, 0)[0].mean(), get_voxel(lat/1000, long/1000, 0)[1].mean()])"
   ]
  },
  {
   "cell_type": "code",
   "execution_count": 201,
   "metadata": {},
   "outputs": [
    {
     "data": {
      "text/plain": [
       "<matplotlib.collections.PathCollection at 0x1866c741640>"
      ]
     },
     "execution_count": 201,
     "metadata": {},
     "output_type": "execute_result"
    },
    {
     "data": {
      "image/png": "[encoded data removed]",
      "text/plain": [
       "<Figure size 432x288 with 1 Axes>"
      ]
     },
     "metadata": {
      "needs_background": "light"
     },
     "output_type": "display_data"
    }
   ],
   "source": [
    "#2\n",
    "plt.scatter([x[0] for x in mean_list], [x[1] for x in mean_list])"
   ]
  },
  {
   "cell_type": "code",
   "execution_count": 202,
   "metadata": {},
   "outputs": [
    {
     "data": {
      "text/plain": [
       "array([1, 1, 0, 0, 2, 0, 1, 1, 0, 0, 2, 0, 1, 1, 0, 0, 2, 0, 1, 1, 0, 0,\n",
       "       2, 0, 1, 1, 0, 0, 2, 0, 1, 1, 0, 0, 2, 0, 1, 1, 0, 0, 2, 0, 1, 1,\n",
       "       0, 0, 2, 0, 1, 1, 0, 0, 2, 0, 1, 1, 0, 0, 2, 0, 1, 1, 0, 0, 2, 0,\n",
       "       1, 1, 0, 0, 2, 0, 1, 1, 0, 0, 2, 0, 1, 1, 0, 0, 2, 0])"
      ]
     },
     "execution_count": 202,
     "metadata": {},
     "output_type": "execute_result"
    }
   ],
   "source": [
    "#3\n",
    "from sklearn.cluster import KMeans\n",
    "import numpy as np\n",
    "X = np.array(mean_list)\n",
    "kmeans = KMeans(n_clusters=3, random_state=0).fit(X)\n",
    "kmeans.labels_"
   ]
  },
  {
   "cell_type": "code",
   "execution_count": null,
   "metadata": {},
   "outputs": [],
   "source": [
    "#4 Append the result into the data dictionary"
   ]
  },
  {
   "cell_type": "code",
   "execution_count": null,
   "metadata": {},
   "outputs": [],
   "source": []
  },
  {
   "cell_type": "code",
   "execution_count": 81,
   "metadata": {},
   "outputs": [],
   "source": [
    "#['bulk_density', 'sav', 'moisture', 'fuel_depth', 'elevation']"
   ]
  },
  {
   "cell_type": "code",
   "execution_count": null,
   "metadata": {},
   "outputs": [],
   "source": []
  },
  {
   "cell_type": "code",
   "execution_count": null,
   "metadata": {},
   "outputs": [],
   "source": []
  },
  {
   "cell_type": "code",
   "execution_count": null,
   "metadata": {},
   "outputs": [],
   "source": []
  },
  {
   "cell_type": "code",
   "execution_count": null,
   "metadata": {},
   "outputs": [],
   "source": []
  }
 ],
 "metadata": {
  "kernelspec": {
   "display_name": "Python 3",
   "language": "python",
   "name": "python3"
  },
  "language_info": {
   "codemirror_mode": {
    "name": "ipython",
    "version": 3
   },
   "file_extension": ".py",
   "mimetype": "text/x-python",
   "name": "python",
   "nbconvert_exporter": "python",
   "pygments_lexer": "ipython3",
   "version": "3.8.8"
  }
 },
 "nbformat": 4,
 "nbformat_minor": 4
}
